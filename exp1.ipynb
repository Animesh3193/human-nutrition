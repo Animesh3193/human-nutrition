{
 "cells": [
  {
   "cell_type": "code",
   "execution_count": 1,
   "metadata": {},
   "outputs": [],
   "source": [
    "pages_and_texts = []"
   ]
  },
  {
   "cell_type": "code",
   "execution_count": 3,
   "metadata": {},
   "outputs": [],
   "source": [
    "pages_and_texts.append({'page_numer' : 5,\n",
    "                                'page_char_count' : 10,\n",
    "                                'page_word_count' : 3,\n",
    "                                'page_sentence_count_raw' : 2,\n",
    "                                'page_token_count' : 12 ,\n",
    "                                'text' : \"this is the content\"\n",
    "                                })\n",
    "\n",
    "pages_and_texts.append({'page_numer' : 6,\n",
    "                                'page_char_count' : 11,\n",
    "                                'page_word_count' : 3,\n",
    "                                'page_sentence_count_raw' : 2,\n",
    "                                'page_token_count' : 12 ,\n",
    "                                'text' : \"this is second content\"\n",
    "                                })"
   ]
  },
  {
   "cell_type": "code",
   "execution_count": 4,
   "metadata": {},
   "outputs": [
    {
     "data": {
      "text/plain": [
       "[{'page_numer': 5,\n",
       "  'page_char_count': 10,\n",
       "  'page_word_count': 3,\n",
       "  'page_sentence_count_raw': 2,\n",
       "  'page_token_count': 12,\n",
       "  'text': 'this is the content'},\n",
       " {'page_numer': 5,\n",
       "  'page_char_count': 10,\n",
       "  'page_word_count': 3,\n",
       "  'page_sentence_count_raw': 2,\n",
       "  'page_token_count': 12,\n",
       "  'text': 'this is the content'},\n",
       " {'page_numer': 6,\n",
       "  'page_char_count': 11,\n",
       "  'page_word_count': 3,\n",
       "  'page_sentence_count_raw': 2,\n",
       "  'page_token_count': 12,\n",
       "  'text': 'this is second content'}]"
      ]
     },
     "execution_count": 4,
     "metadata": {},
     "output_type": "execute_result"
    }
   ],
   "source": [
    "pages_and_texts"
   ]
  },
  {
   "cell_type": "code",
   "execution_count": 5,
   "metadata": {},
   "outputs": [],
   "source": [
    "for item in (pages_and_texts) :\n",
    "    item[\"sentences\"] = len(item[\"text\"])\n",
    "\n",
    "    item[\"sentences\"] = 20\n",
    "    item[\"page_sentence_count_spacy\"] = \"upadted text\""
   ]
  },
  {
   "cell_type": "code",
   "execution_count": 6,
   "metadata": {},
   "outputs": [
    {
     "data": {
      "text/plain": [
       "[{'page_numer': 5,\n",
       "  'page_char_count': 10,\n",
       "  'page_word_count': 3,\n",
       "  'page_sentence_count_raw': 2,\n",
       "  'page_token_count': 12,\n",
       "  'text': 'this is the content',\n",
       "  'sentences': 20,\n",
       "  'page_sentence_count_spacy': 'upadted text'},\n",
       " {'page_numer': 5,\n",
       "  'page_char_count': 10,\n",
       "  'page_word_count': 3,\n",
       "  'page_sentence_count_raw': 2,\n",
       "  'page_token_count': 12,\n",
       "  'text': 'this is the content',\n",
       "  'sentences': 20,\n",
       "  'page_sentence_count_spacy': 'upadted text'},\n",
       " {'page_numer': 6,\n",
       "  'page_char_count': 11,\n",
       "  'page_word_count': 3,\n",
       "  'page_sentence_count_raw': 2,\n",
       "  'page_token_count': 12,\n",
       "  'text': 'this is second content',\n",
       "  'sentences': 20,\n",
       "  'page_sentence_count_spacy': 'upadted text'}]"
      ]
     },
     "execution_count": 6,
     "metadata": {},
     "output_type": "execute_result"
    }
   ],
   "source": [
    "pages_and_texts"
   ]
  },
  {
   "cell_type": "code",
   "execution_count": null,
   "metadata": {},
   "outputs": [],
   "source": []
  }
 ],
 "metadata": {
  "kernelspec": {
   "display_name": "mlenv",
   "language": "python",
   "name": "python3"
  },
  "language_info": {
   "codemirror_mode": {
    "name": "ipython",
    "version": 3
   },
   "file_extension": ".py",
   "mimetype": "text/x-python",
   "name": "python",
   "nbconvert_exporter": "python",
   "pygments_lexer": "ipython3",
   "version": "3.11.7"
  }
 },
 "nbformat": 4,
 "nbformat_minor": 2
}
